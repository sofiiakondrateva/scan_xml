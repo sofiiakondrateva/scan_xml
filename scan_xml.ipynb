{
 "cells": [
  {
   "cell_type": "code",
   "execution_count": 42,
   "metadata": {},
   "outputs": [],
   "source": [
    "from bs4 import BeautifulSoup\n",
    "import pandas as pd"
   ]
  },
  {
   "cell_type": "code",
   "execution_count": 10,
   "metadata": {},
   "outputs": [],
   "source": [
    "content = []\n",
    "with open(\"***\", \"r\", encoding='utf8') as file:  #путь к файлу ***\n",
    "    content = file.readlines()\n",
    "    content = \"\".join(content)\n",
    "    bs_content = BeautifulSoup(content, \"lxml\")"
   ]
  },
  {
   "cell_type": "code",
   "execution_count": 44,
   "metadata": {},
   "outputs": [],
   "source": [
    "data = []\n",
    "for element in bs_content.find_all('element'):\n",
    "    data_line = [(element.find('title').text),\n",
    "                (element.find('type').text),\n",
    "                (element.find('order').text),\n",
    "                (element.find('date').text),\n",
    "                (element.find('documentid').text),\n",
    "                (element.find('source').find('name').text),\n",
    "                (element.find('source').find('categoryname').text),\n",
    "                (element.find('source').find('levelname').text),\n",
    "                (element.find('source').find('regionname').text),\n",
    "                (element.find('source').find('subjectname').text),\n",
    "                (element.find('author').find('name').text),\n",
    "                (element.find('originalurl').text),\n",
    "                (element.find('annotation').text),\n",
    "                (element.find('firstline').text),\n",
    "                #(element.find('fulltext').text),\n",
    "                (element.find('relevancefragment').text)]\n",
    "    data.append(data_line)"
   ]
  },
  {
   "cell_type": "code",
   "execution_count": 45,
   "metadata": {},
   "outputs": [],
   "source": [
    "df = pd.DataFrame(data, columns =['title','type','order','date','documentid',\n",
    "                                  'name', 'category_name', 'level_name', 'region_name',\n",
    "                                 'subject_name', 'author_name','url',\n",
    "                                 'annotation', 'lid','relevancefragment'])"
   ]
  },
  {
   "cell_type": "code",
   "execution_count": 47,
   "metadata": {},
   "outputs": [],
   "source": [
    "df.to_excel('Exsample.xlsx', encoding = 'utf8')"
   ]
  },
  {
   "cell_type": "code",
   "execution_count": null,
   "metadata": {},
   "outputs": [],
   "source": []
  }
 ],
 "metadata": {
  "kernelspec": {
   "display_name": "Python 3",
   "language": "python",
   "name": "python3"
  },
  "language_info": {
   "codemirror_mode": {
    "name": "ipython",
    "version": 3
   },
   "file_extension": ".py",
   "mimetype": "text/x-python",
   "name": "python",
   "nbconvert_exporter": "python",
   "pygments_lexer": "ipython3",
   "version": "3.8.3"
  }
 },
 "nbformat": 4,
 "nbformat_minor": 4
}
